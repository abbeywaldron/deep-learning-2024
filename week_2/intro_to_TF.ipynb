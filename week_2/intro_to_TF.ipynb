{
 "cells": [
  {
   "cell_type": "markdown",
   "id": "3885ed30",
   "metadata": {},
   "source": [
    "# Introduction to TensorFlow 2 #"
   ]
  },
  {
   "cell_type": "code",
   "execution_count": 1,
   "id": "7b366c80",
   "metadata": {},
   "outputs": [
    {
     "name": "stdout",
     "output_type": "stream",
     "text": [
      "<module 'tensorflow._api.v2.version' from '/Users/abbeyadmin/miniforge3/envs/tf2.11/lib/python3.9/site-packages/tensorflow/_api/v2/version/__init__.py'>\n"
     ]
    }
   ],
   "source": [
    "import numpy as np\n",
    "import matplotlib.pyplot as plt\n",
    "%matplotlib inline\n",
    "\n",
    "import tensorflow as tf\n",
    "print(tf.version)"
   ]
  },
  {
   "cell_type": "markdown",
   "id": "d3466c09",
   "metadata": {},
   "source": [
    "First: check that running the cell above gives you tensorflow v2, from the tf2.11 environment.  Now let's declare some constants:"
   ]
  },
  {
   "cell_type": "code",
   "execution_count": 2,
   "id": "ed77ea89",
   "metadata": {},
   "outputs": [],
   "source": [
    "# constants\n",
    "a = tf.constant(3.0, dtype=tf.float32)\n",
    "b = tf.constant([1, 2, 3, 4, 5, 6, 7, 8, 9, 10], dtype=tf.float32)\n",
    "\n",
    "x = np.array([[1, 2], [3, 4]])\n",
    "c = tf.constant(x)\n",
    "\n",
    "d = tensor = tf.constant(-1.0, shape=[2, 2])"
   ]
  },
  {
   "cell_type": "markdown",
   "id": "06de1d0a",
   "metadata": {},
   "source": [
    "**Print the contents of a,b,c and d.  Now look up the documentation for tf.rank and tf.shape and find the rank and shape of c**"
   ]
  },
  {
   "cell_type": "code",
   "execution_count": null,
   "id": "ba844891",
   "metadata": {},
   "outputs": [],
   "source": []
  },
  {
   "cell_type": "markdown",
   "id": "596e52f0",
   "metadata": {},
   "source": [
    "**What are rank and shape telling you about the tensor?**"
   ]
  },
  {
   "cell_type": "markdown",
   "id": "e9b50b26",
   "metadata": {},
   "source": [
    "Now let's look at variables"
   ]
  },
  {
   "cell_type": "code",
   "execution_count": 3,
   "id": "ec429caa",
   "metadata": {},
   "outputs": [],
   "source": [
    "# variables\n",
    "tensorVar = tf.Variable([1, 2, 3, 4, 5, 6, 7, 8, 9, 10], name=\"tensorVar\")"
   ]
  },
  {
   "cell_type": "markdown",
   "id": "6e3a0c5e",
   "metadata": {},
   "source": [
    "**Print tensorVar, and then use tensorVar.assign to make a tensor containing tensorVar+1 (i.e. [2,3...11])**"
   ]
  },
  {
   "cell_type": "code",
   "execution_count": null,
   "id": "1d9181d4",
   "metadata": {},
   "outputs": [],
   "source": []
  },
  {
   "cell_type": "markdown",
   "id": "3ca56eb6",
   "metadata": {},
   "source": [
    "Various mathematical operations are available:"
   ]
  },
  {
   "cell_type": "code",
   "execution_count": 4,
   "id": "b896f367",
   "metadata": {},
   "outputs": [
    {
     "name": "stdout",
     "output_type": "stream",
     "text": [
      "a           =  tf.Tensor(3.0, shape=(), dtype=float32)\n",
      "b           =  tf.Tensor(4.0, shape=(), dtype=float32)\n",
      "Total       =  tf.Tensor(7.0, shape=(), dtype=float32)\n",
      "Product     =  tf.Tensor(12.0, shape=(), dtype=float32)\n",
      "sqrt(a)     =  tf.Tensor(1.7320508, shape=(), dtype=float32)\n",
      "N=(1,...10) =  tf.Tensor([ 1.  2.  3.  4.  5.  6.  7.  8.  9. 10.], shape=(10,), dtype=float32)\n",
      "sqrt(c)     =  tf.Tensor(\n",
      "[1.        1.4142135 1.7320508 2.        2.236068  2.4494898 2.6457512\n",
      " 2.828427  3.        3.1622777], shape=(10,), dtype=float32)\n",
      "sqrt(d)     =  tf.Tensor(\n",
      "[[1.       ]\n",
      " [1.4142135]\n",
      " [1.7320508]\n",
      " [2.       ]\n",
      " [2.236068 ]\n",
      " [2.4494898]\n",
      " [2.6457512]\n",
      " [2.828427 ]\n",
      " [3.       ]\n",
      " [3.1622777]], shape=(10, 1), dtype=float32)\n"
     ]
    }
   ],
   "source": [
    "a        = tf.constant(3.0, dtype=tf.float32)\n",
    "b        = tf.constant(4.0) # also tf.float32 implicitly\n",
    "total    = a + b\n",
    "product  = a * b\n",
    "quotient = a/b\n",
    "srt      = tf.sqrt(a) # scalar\n",
    "c        = tf.constant([1, 2, 3, 4, 5, 6, 7, 8, 9, 10], dtype=tf.float32) # rank 1 tensor \n",
    "d        = tf.constant([[1], [2], [3], [4], [5], [6], [7], [8], [9], [10]], dtype=tf.float32) # rank 2 tensor\n",
    "aquotient= c/d    # compute a rank 2 Tensor for this division\n",
    "print(\"a           = \", a)\n",
    "print(\"b           = \", b)\n",
    "print(\"Total       = \", total)\n",
    "print(\"Product     = \", product)\n",
    "print(\"sqrt(a)     = \", srt)\n",
    "print(\"N=(1,...10) = \", c)\n",
    "print(\"sqrt(c)     = \", tf.sqrt(c))\n",
    "print(\"sqrt(d)     = \", tf.sqrt(d))"
   ]
  },
  {
   "cell_type": "markdown",
   "id": "2ce8e9d7",
   "metadata": {},
   "source": [
    "In addition to element wise operations that are defined, TensorFlow has a number of figure of merit (metric) computations defined.  For some data (this example uses a numpy array, it also works with tensors) we can compute the sum, mean, product … of the elements"
   ]
  },
  {
   "cell_type": "code",
   "execution_count": 5,
   "id": "fad4eb5c",
   "metadata": {},
   "outputs": [
    {
     "name": "stdout",
     "output_type": "stream",
     "text": [
      "data           =  tf.Tensor(\n",
      "[[3.1513367]\n",
      " [9.283596 ]\n",
      " [1.4546119]\n",
      " [5.4617004]\n",
      " [8.519701 ]\n",
      " [1.2382338]\n",
      " [1.7930176]\n",
      " [5.1099434]\n",
      " [7.9195533]\n",
      " [7.638727 ]], shape=(10, 1), dtype=float32)\n",
      "sqrt(data)     =  [[1.7752005]\n",
      " [3.0468993]\n",
      " [1.2060729]\n",
      " [2.337028 ]\n",
      " [2.9188526]\n",
      " [1.1127596]\n",
      " [1.3390361]\n",
      " [2.2605183]\n",
      " [2.8141701]\n",
      " [2.7638247]]\n"
     ]
    }
   ],
   "source": [
    "# generate some data and perform calculations on this\n",
    "Ngen = 10\n",
    "min_x = 1\n",
    "max_x = 10\n",
    "data = tf.random.uniform([Ngen, 1], min_x, max_x,seed=1)  # training set\n",
    "\n",
    "data_sqrt = np.sqrt(data)\n",
    "\n",
    "# the following are tensor outputs\n",
    "print(\"data           = \",data)\n",
    "print(\"sqrt(data)     = \",data_sqrt)"
   ]
  },
  {
   "cell_type": "markdown",
   "id": "94146352",
   "metadata": {},
   "source": [
    "**Look up the reduce functions in TensorFlow and use them to print the sum, mean, product, maximum and minimum of the data**"
   ]
  },
  {
   "cell_type": "code",
   "execution_count": null,
   "id": "c4fa4cec",
   "metadata": {},
   "outputs": [],
   "source": []
  },
  {
   "cell_type": "markdown",
   "id": "268ae6b9",
   "metadata": {},
   "source": [
    "We can also do matrix multiplication:"
   ]
  },
  {
   "cell_type": "code",
   "execution_count": 6,
   "id": "56d3f25e",
   "metadata": {},
   "outputs": [
    {
     "name": "stdout",
     "output_type": "stream",
     "text": [
      "A       =  tf.Tensor(\n",
      "[[ 1  0 -1]\n",
      " [ 0  1  0]\n",
      " [-1  0  1]], shape=(3, 3), dtype=int32)\n",
      "B       =  tf.Tensor(\n",
      "[[1 2 3]\n",
      " [4 5 6]\n",
      " [7 8 9]], shape=(3, 3), dtype=int32)\n",
      "\n",
      "C = A.B =  tf.Tensor(\n",
      "[[-6 -6 -6]\n",
      " [ 4  5  6]\n",
      " [ 6  6  6]], shape=(3, 3), dtype=int32)\n",
      "\n",
      "D = B.A =  tf.Tensor(\n",
      "[[-2  2  2]\n",
      " [-2  5  2]\n",
      " [-2  8  2]], shape=(3, 3), dtype=int32)\n"
     ]
    }
   ],
   "source": [
    "# generate some data and perform calculations on this\n",
    "I = tf.constant([[1, 0, 0],[0, 1, 0],[0, 0, 1]], name=\"A\")\n",
    "A = tf.constant([[1, 0, -1],[0, 1, 0],[-1, 0, 1]], name=\"A\")\n",
    "B = tf.constant([[1, 2, 3],[4, 5, 6],[7, 8, 9]], name=\"B\")\n",
    "C = tf.matmul(A, B)\n",
    "D = tf.matmul(B, A)\n",
    "\n",
    "print(\"A       = \", A)\n",
    "print(\"B       = \", B)\n",
    "print(\"\\nC = A.B = \", C)\n",
    "print(\"\\nD = B.A = \", D)"
   ]
  },
  {
   "cell_type": "markdown",
   "id": "b38ee05c",
   "metadata": {},
   "source": [
    "**By looking at A.I, I.A, B.I and I.B, verify that I is acting as the identity matrix**"
   ]
  },
  {
   "cell_type": "code",
   "execution_count": null,
   "id": "2f099676",
   "metadata": {},
   "outputs": [],
   "source": []
  },
  {
   "cell_type": "markdown",
   "id": "d778146f",
   "metadata": {},
   "source": [
    "**Use tensorflow (not numpy) to generate data for three different distributions and plot the data as histograms.  Generate 10000 data from: a normal distribution with mean=3.0, sigma=1.0, a uniform distribution between 0 and 5 and the square root of the previous uniform distribution.**"
   ]
  },
  {
   "cell_type": "code",
   "execution_count": 7,
   "id": "cb0d3dbe",
   "metadata": {},
   "outputs": [],
   "source": [
    "Ngen = 10000\n"
   ]
  },
  {
   "cell_type": "code",
   "execution_count": 10,
   "id": "cb95a780",
   "metadata": {},
   "outputs": [],
   "source": [
    "# now plot the gaussian distribution"
   ]
  },
  {
   "cell_type": "code",
   "execution_count": 11,
   "id": "9f895b80",
   "metadata": {},
   "outputs": [],
   "source": [
    "# now plot - the uniform distribution\n"
   ]
  },
  {
   "cell_type": "code",
   "execution_count": 12,
   "id": "6d098ff6",
   "metadata": {},
   "outputs": [],
   "source": [
    "# now plot - the sqrt(uniform) distribution\n"
   ]
  },
  {
   "cell_type": "markdown",
   "id": "2a4a9b9a",
   "metadata": {},
   "source": [
    "**CHECKPOINT - Get a demonstrator to look at your work!**"
   ]
  },
  {
   "cell_type": "markdown",
   "id": "00b02efe",
   "metadata": {},
   "source": [
    "**Bonus task - can you make the same distributions with numpy and compare them?**"
   ]
  }
 ],
 "metadata": {
  "kernelspec": {
   "display_name": "Python 3 (ipykernel)",
   "language": "python",
   "name": "python3"
  },
  "language_info": {
   "codemirror_mode": {
    "name": "ipython",
    "version": 3
   },
   "file_extension": ".py",
   "mimetype": "text/x-python",
   "name": "python",
   "nbconvert_exporter": "python",
   "pygments_lexer": "ipython3",
   "version": "3.9.15"
  }
 },
 "nbformat": 4,
 "nbformat_minor": 5
}
