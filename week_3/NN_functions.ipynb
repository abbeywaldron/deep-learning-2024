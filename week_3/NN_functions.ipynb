{
 "cells": [
  {
   "cell_type": "markdown",
   "id": "f8da9041",
   "metadata": {},
   "source": [
    "Make a function similar to sim_parabola in the last exercise to generate test and training data from a sine curve $y = \\sin(x)$ with added gaussian random noise with $\\sigma=0.05$"
   ]
  },
  {
   "cell_type": "code",
   "execution_count": null,
   "id": "49df80c3",
   "metadata": {},
   "outputs": [],
   "source": []
  },
  {
   "cell_type": "markdown",
   "id": "19824693",
   "metadata": {},
   "source": [
    "Make a keras sequential model to take input values x and return predictions y for sin(x).  Hint: look at the previous exercise!"
   ]
  },
  {
   "cell_type": "code",
   "execution_count": null,
   "id": "c7c7e3c2",
   "metadata": {},
   "outputs": [],
   "source": []
  },
  {
   "cell_type": "markdown",
   "id": "752c33bd",
   "metadata": {},
   "source": [
    "Use a mean squared error loss function and the Adam optimiser to train the model.  Store the history."
   ]
  },
  {
   "cell_type": "code",
   "execution_count": null,
   "id": "70130a45",
   "metadata": {},
   "outputs": [],
   "source": []
  },
  {
   "cell_type": "markdown",
   "id": "0b826d10",
   "metadata": {},
   "source": [
    "Plot the loss and the val_loss from the history"
   ]
  },
  {
   "cell_type": "code",
   "execution_count": null,
   "id": "ad748b6b",
   "metadata": {},
   "outputs": [],
   "source": []
  },
  {
   "cell_type": "markdown",
   "id": "68fdff1a",
   "metadata": {},
   "source": [
    "Use the model to make predictions for the test data and plot these results on the same plot as the training examples"
   ]
  },
  {
   "cell_type": "code",
   "execution_count": null,
   "id": "445979a0",
   "metadata": {},
   "outputs": [],
   "source": []
  },
  {
   "cell_type": "markdown",
   "id": "94f580a8",
   "metadata": {},
   "source": [
    "Plot the residuals between the test y values and the models predicted y values"
   ]
  },
  {
   "cell_type": "code",
   "execution_count": null,
   "id": "138fb5b6",
   "metadata": {},
   "outputs": [],
   "source": []
  },
  {
   "cell_type": "markdown",
   "id": "72db1bd5",
   "metadata": {},
   "source": [
    "Does your model give a good fit to the data?  If not, try to fix it.  What things can you try?  Hint: look at the previous exercise.\n",
    "\n",
    "Optional exercise: repeat this exercise with a cubic $y(x) = a + bx + cx^{2} + dx^{3}$ function plus the same gaussian noise.  Can you make a neural network architecture and set of hyperparameters (batch size, learning rate, number of epochs etc) such that the training always works no matter what values we chose for $a, b, c$ and $d$? "
   ]
  }
 ],
 "metadata": {
  "kernelspec": {
   "display_name": "Python 3 (ipykernel)",
   "language": "python",
   "name": "python3"
  },
  "language_info": {
   "codemirror_mode": {
    "name": "ipython",
    "version": 3
   },
   "file_extension": ".py",
   "mimetype": "text/x-python",
   "name": "python",
   "nbconvert_exporter": "python",
   "pygments_lexer": "ipython3",
   "version": "3.9.15"
  }
 },
 "nbformat": 4,
 "nbformat_minor": 5
}
