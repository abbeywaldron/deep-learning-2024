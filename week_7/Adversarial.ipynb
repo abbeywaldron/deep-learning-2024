{
 "cells": [
  {
   "cell_type": "code",
   "execution_count": 2,
   "id": "7413aa41",
   "metadata": {},
   "outputs": [],
   "source": [
    "import numpy as np\n",
    "import matplotlib.pyplot as plt\n",
    "%matplotlib inline\n",
    "import tensorflow as tf\n",
    "from cleverhans.tf2.attacks.fast_gradient_method import fast_gradient_method\n",
    "from PIL import Image\n",
    "import requests"
   ]
  },
  {
   "cell_type": "code",
   "execution_count": 3,
   "id": "0eb02dc7",
   "metadata": {},
   "outputs": [],
   "source": [
    "# read in an image\n",
    "url = 'https://www.qmul.ac.uk/media/qmul/postgraduate/23_22-PG_asset4_8X8.jpg'\n",
    "im = np.array(Image.open(requests.get(url, stream=True).raw), dtype=float)\n",
    "im /= 255.\n"
   ]
  },
  {
   "cell_type": "markdown",
   "id": "80594185",
   "metadata": {},
   "source": [
    "**Use tf.image.resize to resize the image to (224,224) as MobileNet will expect.  Plot the image.**"
   ]
  },
  {
   "cell_type": "code",
   "execution_count": null,
   "id": "7edf7693",
   "metadata": {},
   "outputs": [],
   "source": []
  },
  {
   "cell_type": "code",
   "execution_count": 50,
   "id": "e071c16a",
   "metadata": {},
   "outputs": [],
   "source": [
    "# get a pre-trained model that hopefully works on your image\n",
    "from tensorflow.keras.applications import MobileNet\n",
    "\n",
    "pre_trained_model = MobileNet(weights='imagenet')\n",
    "# just to make sure you don't accidentally change these parameters\n",
    "pre_trained_model.trainable = False\n",
    "\n",
    "model = tf.keras.models.Sequential()\n",
    "model.add(pre_trained_model)"
   ]
  },
  {
   "cell_type": "markdown",
   "id": "919a3b8b",
   "metadata": {},
   "source": [
    "**Use model.predict to get the predicted class, what is it?  What is the confidence of the prediction?**  Tip - you can find the image net class list e.g. here: https://gist.github.com/yrevar/942d3a0ac09ec9e5eb3a"
   ]
  },
  {
   "cell_type": "code",
   "execution_count": null,
   "id": "a820dab4",
   "metadata": {},
   "outputs": [],
   "source": []
  },
  {
   "cell_type": "code",
   "execution_count": 4,
   "id": "c1b1c5c1",
   "metadata": {},
   "outputs": [],
   "source": [
    "# now let's hack it\n",
    "target_class = 849 # teapot\n",
    "max_iter = 100\n",
    "eps = 0.001\n",
    "target_class_as_array = np.array([target_class])\n"
   ]
  },
  {
   "cell_type": "markdown",
   "id": "1ce143a8",
   "metadata": {},
   "source": [
    "The code in the following cell gives an outline of a fast gradient descent attack.  Give it the right inputs so you can use it on the image you found previously.  You need to make some changes in the code to make it work!"
   ]
  },
  {
   "cell_type": "code",
   "execution_count": null,
   "id": "966ffe43",
   "metadata": {},
   "outputs": [],
   "source": [
    "# CODE IN THIS CELL DOES NOT WORK YET - MAKE IT WORK!\n",
    "\n",
    "current_confidence = 0.0\n",
    "\n",
    "#### remember to define the image_array\n",
    "\n",
    "i = 0\n",
    "im_hacked = fast_gradient_method(model,image_array,eps,np.inf,y=target_class_as_array,targeted=True)\n",
    "while (current_confidence < 0.9) and (i < max_iter):\n",
    "    im_hacked = fast_gradient_method(model,im_hacked,eps,np.inf,y=target_class_as_array,targeted=True)\n",
    "    ##### UPDATE THE CURRENT CONFIDENCE IN HERE ##########\n",
    "    \n",
    "    ######################################################\n",
    "    print(current_confidence)\n",
    "    i += 1"
   ]
  },
  {
   "cell_type": "markdown",
   "id": "2894f071",
   "metadata": {},
   "source": [
    "**What is the predicted class of the image now?  What is the confidence?**"
   ]
  },
  {
   "cell_type": "code",
   "execution_count": null,
   "id": "4b6b042d",
   "metadata": {},
   "outputs": [],
   "source": []
  },
  {
   "cell_type": "markdown",
   "id": "45cdc46e",
   "metadata": {},
   "source": [
    "**Plot the new version of the image.  Can you tell the difference?**"
   ]
  },
  {
   "cell_type": "code",
   "execution_count": null,
   "id": "7e2c8f59",
   "metadata": {},
   "outputs": [],
   "source": []
  },
  {
   "cell_type": "markdown",
   "id": "ebbc1d46",
   "metadata": {},
   "source": [
    "**Now plot the difference between the original and new images, you may need to multiply it be 100 if you can't see anything**"
   ]
  },
  {
   "cell_type": "code",
   "execution_count": null,
   "id": "770e52e6",
   "metadata": {},
   "outputs": [],
   "source": []
  },
  {
   "cell_type": "markdown",
   "id": "b483784d",
   "metadata": {},
   "source": [
    "**What happens when you change the parameter eps?  Remember you might need to change max_iter if you hit it**"
   ]
  }
 ],
 "metadata": {
  "kernelspec": {
   "display_name": "Python 3 (ipykernel)",
   "language": "python",
   "name": "python3"
  },
  "language_info": {
   "codemirror_mode": {
    "name": "ipython",
    "version": 3
   },
   "file_extension": ".py",
   "mimetype": "text/x-python",
   "name": "python",
   "nbconvert_exporter": "python",
   "pygments_lexer": "ipython3",
   "version": "3.9.15"
  }
 },
 "nbformat": 4,
 "nbformat_minor": 5
}
