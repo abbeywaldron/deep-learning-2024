{
 "cells": [
  {
   "cell_type": "markdown",
   "id": "23c35de6",
   "metadata": {},
   "source": [
    "Remember you did most of these things yesterday, but try not to copy-paste!"
   ]
  },
  {
   "cell_type": "markdown",
   "id": "eea76266",
   "metadata": {},
   "source": [
    "**Read in an image of a cat from the internet**"
   ]
  },
  {
   "cell_type": "code",
   "execution_count": null,
   "id": "871f29d3",
   "metadata": {},
   "outputs": [],
   "source": []
  },
  {
   "cell_type": "markdown",
   "id": "9226a4e6",
   "metadata": {},
   "source": [
    "**Resize the image to be (224,224) and then plot it**"
   ]
  },
  {
   "cell_type": "code",
   "execution_count": null,
   "id": "2dd92274",
   "metadata": {},
   "outputs": [],
   "source": []
  },
  {
   "cell_type": "markdown",
   "id": "94550e13",
   "metadata": {},
   "source": [
    "**Get the pre-trained MobileNet network from tensorflow.keras.applications and use it to predict the class of your image.  Is it a cat?**  Remember classes can be found here: https://gist.github.com/yrevar/942d3a0ac09ec9e5eb3a"
   ]
  },
  {
   "cell_type": "code",
   "execution_count": null,
   "id": "565669ac",
   "metadata": {},
   "outputs": [],
   "source": []
  },
  {
   "cell_type": "markdown",
   "id": "8222be93",
   "metadata": {},
   "source": [
    "**Use the fast gradient method to alter the image so it gets classified as a dog with 90% confidence**"
   ]
  },
  {
   "cell_type": "code",
   "execution_count": null,
   "id": "9a852a1a",
   "metadata": {},
   "outputs": [],
   "source": []
  },
  {
   "cell_type": "markdown",
   "id": "1cdfd8da",
   "metadata": {},
   "source": [
    "**Plot your new image and the difference between the two (remember you may need to multiply the differences by ~100 to see them).  Does it still look like a cat?  Can you see the difference to the original image by eye?**"
   ]
  },
  {
   "cell_type": "code",
   "execution_count": null,
   "id": "035d5267",
   "metadata": {},
   "outputs": [],
   "source": []
  },
  {
   "cell_type": "markdown",
   "id": "406a8538",
   "metadata": {},
   "source": [
    "1. Investigate changing the value of the attack size epsilon.  What is the largest value you can set it to and still have a successful attack that is not visible by eye?\n",
    "2. Now change your attack to an untargeted attack - what is the first class to reach 99% confidence?\n",
    "3. Investigate targeted attacks to different target classes, does it take a similar number of steps to reach most of them or is there wide variation?\n",
    "4. Investigate different pre-trained neural networks.  Can you create a targeted hacked image using one pre-trained network that will then fool a different pre-trained network?"
   ]
  }
 ],
 "metadata": {
  "kernelspec": {
   "display_name": "Python 3 (ipykernel)",
   "language": "python",
   "name": "python3"
  },
  "language_info": {
   "codemirror_mode": {
    "name": "ipython",
    "version": 3
   },
   "file_extension": ".py",
   "mimetype": "text/x-python",
   "name": "python",
   "nbconvert_exporter": "python",
   "pygments_lexer": "ipython3",
   "version": "3.9.15"
  }
 },
 "nbformat": 4,
 "nbformat_minor": 5
}
