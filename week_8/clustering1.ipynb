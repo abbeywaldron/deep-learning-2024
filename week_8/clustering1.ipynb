{
 "cells": [
  {
   "cell_type": "code",
   "execution_count": 1,
   "id": "9d70b69e",
   "metadata": {},
   "outputs": [],
   "source": [
    "import numpy as np\n",
    "import matplotlib.pyplot as plt\n",
    "%matplotlib inline\n",
    "from pydataset import data"
   ]
  },
  {
   "cell_type": "markdown",
   "id": "345dfea9",
   "metadata": {},
   "source": [
    "We're going to work with some pre-defined data sets originally used in R:"
   ]
  },
  {
   "cell_type": "code",
   "execution_count": 2,
   "id": "2edccfe5",
   "metadata": {},
   "outputs": [
    {
     "name": "stdout",
     "output_type": "stream",
     "text": [
      "        dataset_id                                             title\n",
      "0    AirPassengers       Monthly Airline Passenger Numbers 1949-1960\n",
      "1          BJsales                 Sales Data with Leading Indicator\n",
      "2              BOD                         Biochemical Oxygen Demand\n",
      "3     Formaldehyde                     Determination of Formaldehyde\n",
      "4     HairEyeColor         Hair and Eye Color of Statistics Students\n",
      "..             ...                                               ...\n",
      "752        VerbAgg                  Verbal Aggression item responses\n",
      "753           cake                 Breakage Angle of Chocolate Cakes\n",
      "754           cbpp                 Contagious bovine pleuropneumonia\n",
      "755    grouseticks  Data on red grouse ticks from Elston et al. 2001\n",
      "756     sleepstudy       Reaction times in a sleep deprivation study\n",
      "\n",
      "[757 rows x 2 columns]\n"
     ]
    }
   ],
   "source": [
    "datasets = data()\n",
    "print(datasets)"
   ]
  },
  {
   "cell_type": "markdown",
   "id": "72c5379e",
   "metadata": {},
   "source": [
    "We'll use the 'quakes' dataset, what is it?  Read the documentation to find out:"
   ]
  },
  {
   "cell_type": "code",
   "execution_count": 3,
   "id": "9d0c4175",
   "metadata": {},
   "outputs": [
    {
     "name": "stdout",
     "output_type": "stream",
     "text": [
      "quakes\n",
      "\n",
      "PyDataset Documentation (adopted from R Documentation. The displayed examples are in R)\n",
      "\n",
      "## Locations of Earthquakes off Fiji\n",
      "\n",
      "### Description\n",
      "\n",
      "The data set give the locations of 1000 seismic events of MB > 4.0. The events\n",
      "occurred in a cube near Fiji since 1964.\n",
      "\n",
      "### Usage\n",
      "\n",
      "    quakes\n",
      "\n",
      "### Format\n",
      "\n",
      "A data frame with 1000 observations on 5 variables.\n",
      "\n",
      "[,1]\n",
      "\n",
      "lat\n",
      "\n",
      "numeric\n",
      "\n",
      "Latitude of event\n",
      "\n",
      "[,2]\n",
      "\n",
      "long\n",
      "\n",
      "numeric\n",
      "\n",
      "Longitude\n",
      "\n",
      "[,3]\n",
      "\n",
      "depth\n",
      "\n",
      "numeric\n",
      "\n",
      "Depth (km)\n",
      "\n",
      "[,4]\n",
      "\n",
      "mag\n",
      "\n",
      "numeric\n",
      "\n",
      "Richter Magnitude\n",
      "\n",
      "[,5]\n",
      "\n",
      "stations\n",
      "\n",
      "numeric\n",
      "\n",
      "Number of stations reporting\n",
      "\n",
      "### Details\n",
      "\n",
      "There are two clear planes of seismic activity. One is a major plate junction;\n",
      "the other is the Tonga trench off New Zealand. These data constitute a\n",
      "subsample from a larger dataset of containing 5000 observations.\n",
      "\n",
      "### Source\n",
      "\n",
      "This is one of the Harvard PRIM-H project data sets. They in turn obtained it\n",
      "from Dr. John Woodhouse, Dept. of Geophysics, Harvard University.\n",
      "\n",
      "### Examples\n",
      "\n",
      "    require(graphics)\n",
      "    pairs(quakes, main = \"Fiji Earthquakes, N = 1000\", cex.main = 1.2, pch = \".\")\n",
      "\n",
      "\n",
      "        lat    long  depth  mag  stations\n",
      "1    -20.42  181.62    562  4.8        41\n",
      "2    -20.62  181.03    650  4.2        15\n",
      "3    -26.00  184.10     42  5.4        43\n",
      "4    -17.97  181.66    626  4.1        19\n",
      "5    -20.42  181.96    649  4.0        11\n",
      "...     ...     ...    ...  ...       ...\n",
      "996  -25.93  179.54    470  4.4        22\n",
      "997  -12.28  167.06    248  4.7        35\n",
      "998  -20.13  184.20    244  4.5        34\n",
      "999  -17.40  187.80     40  4.5        14\n",
      "1000 -21.59  170.56    165  6.0       119\n",
      "\n",
      "[1000 rows x 5 columns]\n"
     ]
    }
   ],
   "source": [
    "data('quakes', show_doc=True)\n",
    "df = data('quakes')\n",
    "print(df)"
   ]
  },
  {
   "cell_type": "markdown",
   "id": "1dff16f1",
   "metadata": {},
   "source": [
    "**Make a scatter plot of the latitudes and longitudes of the earthquakes**"
   ]
  },
  {
   "cell_type": "code",
   "execution_count": null,
   "id": "03f13010",
   "metadata": {},
   "outputs": [],
   "source": []
  },
  {
   "cell_type": "markdown",
   "id": "b6c555d4",
   "metadata": {},
   "source": [
    "**Now make another scatter plot showing the latitudes and longitudes, but with the marker size representing the magnitude and the colour representing the depth**  Hint - scale the magnitudes to 20*(mag - min_mag)/(max_mag-min_mag)"
   ]
  },
  {
   "cell_type": "code",
   "execution_count": null,
   "id": "a219707e",
   "metadata": {},
   "outputs": [],
   "source": []
  },
  {
   "cell_type": "markdown",
   "id": "6c1e6b80",
   "metadata": {},
   "source": [
    "What can you say about the depths of the earthquakes?"
   ]
  },
  {
   "cell_type": "markdown",
   "id": "9107ca43",
   "metadata": {},
   "source": [
    "**Now use the KMeans algorithm from scikit learn to cluster the eartquake locations according to their latitude and longitude.  How many clusters are appropriate?  Hint - look at the documentation for the dataset!**"
   ]
  },
  {
   "cell_type": "code",
   "execution_count": 4,
   "id": "11dcea20",
   "metadata": {},
   "outputs": [],
   "source": [
    "from sklearn.cluster import KMeans\n"
   ]
  },
  {
   "cell_type": "markdown",
   "id": "02a23607",
   "metadata": {},
   "source": [
    "**Make a scatter plot showing the cluster each earthquake belongs to**"
   ]
  },
  {
   "cell_type": "code",
   "execution_count": null,
   "id": "dea3d47d",
   "metadata": {},
   "outputs": [],
   "source": []
  },
  {
   "cell_type": "markdown",
   "id": "de4b46cc",
   "metadata": {},
   "source": [
    "**Now perform KMeans clustering on the latitude, longitude and depth without scaling the inputs.  Plot the resulting clusters.  What do you notice?**"
   ]
  },
  {
   "cell_type": "code",
   "execution_count": null,
   "id": "1395d6d8",
   "metadata": {},
   "outputs": [],
   "source": []
  },
  {
   "cell_type": "markdown",
   "id": "1f2dfdad",
   "metadata": {},
   "source": [
    "**Now perform clustering on the same three variables but this time normalize them (tip - use normalize from sklearn.preprocessing with axis=0).  Plot your results as lat vs long, long vs depth and lat vs depth.  What do you notice?**"
   ]
  },
  {
   "cell_type": "code",
   "execution_count": null,
   "id": "aa2fce47",
   "metadata": {},
   "outputs": [],
   "source": []
  },
  {
   "cell_type": "markdown",
   "id": "6c1ee9fd",
   "metadata": {},
   "source": [
    "**Now make a scatter plot of the magnitutes against the number of stations.  Is there a correlation?  Does this make sense?**"
   ]
  },
  {
   "cell_type": "code",
   "execution_count": null,
   "id": "04360e67",
   "metadata": {},
   "outputs": [],
   "source": [
    "\n",
    "\n",
    "\n"
   ]
  },
  {
   "cell_type": "markdown",
   "id": "79291b84",
   "metadata": {},
   "source": [
    "**Now use a neural network with a linear output to predict the number of stations given an earthquake magnitude.  Hint - we did similar things in weeks 2 and 3!  Plot your results and the training history.**"
   ]
  },
  {
   "cell_type": "code",
   "execution_count": null,
   "id": "c0cbfa7b",
   "metadata": {},
   "outputs": [],
   "source": []
  }
 ],
 "metadata": {
  "kernelspec": {
   "display_name": "Python 3 (ipykernel)",
   "language": "python",
   "name": "python3"
  },
  "language_info": {
   "codemirror_mode": {
    "name": "ipython",
    "version": 3
   },
   "file_extension": ".py",
   "mimetype": "text/x-python",
   "name": "python",
   "nbconvert_exporter": "python",
   "pygments_lexer": "ipython3",
   "version": "3.9.15"
  }
 },
 "nbformat": 4,
 "nbformat_minor": 5
}
