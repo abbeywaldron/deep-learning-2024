{
 "cells": [
  {
   "cell_type": "code",
   "execution_count": 1,
   "id": "9d70b69e",
   "metadata": {},
   "outputs": [],
   "source": [
    "import numpy as np\n",
    "import matplotlib.pyplot as plt\n",
    "%matplotlib inline\n",
    "from pydataset import data"
   ]
  },
  {
   "cell_type": "markdown",
   "id": "345dfea9",
   "metadata": {},
   "source": [
    "We're going to work with some pre-defined data sets originally used in R:"
   ]
  },
  {
   "cell_type": "code",
   "execution_count": 2,
   "id": "2edccfe5",
   "metadata": {},
   "outputs": [
    {
     "name": "stdout",
     "output_type": "stream",
     "text": [
      "        dataset_id                                             title\n",
      "0    AirPassengers       Monthly Airline Passenger Numbers 1949-1960\n",
      "1          BJsales                 Sales Data with Leading Indicator\n",
      "2              BOD                         Biochemical Oxygen Demand\n",
      "3     Formaldehyde                     Determination of Formaldehyde\n",
      "4     HairEyeColor         Hair and Eye Color of Statistics Students\n",
      "..             ...                                               ...\n",
      "752        VerbAgg                  Verbal Aggression item responses\n",
      "753           cake                 Breakage Angle of Chocolate Cakes\n",
      "754           cbpp                 Contagious bovine pleuropneumonia\n",
      "755    grouseticks  Data on red grouse ticks from Elston et al. 2001\n",
      "756     sleepstudy       Reaction times in a sleep deprivation study\n",
      "\n",
      "[757 rows x 2 columns]\n"
     ]
    }
   ],
   "source": [
    "datasets = data()\n",
    "print(datasets)"
   ]
  },
  {
   "cell_type": "markdown",
   "id": "72c5379e",
   "metadata": {},
   "source": [
    "We'll use the 'iris' dataset, what is it?  Read the documentation to find out:"
   ]
  },
  {
   "cell_type": "code",
   "execution_count": 3,
   "id": "9d0c4175",
   "metadata": {},
   "outputs": [
    {
     "name": "stdout",
     "output_type": "stream",
     "text": [
      "iris\n",
      "\n",
      "PyDataset Documentation (adopted from R Documentation. The displayed examples are in R)\n",
      "\n",
      "## Edgar Anderson's Iris Data\n",
      "\n",
      "### Description\n",
      "\n",
      "This famous (Fisher's or Anderson's) iris data set gives the measurements in\n",
      "centimeters of the variables sepal length and width and petal length and\n",
      "width, respectively, for 50 flowers from each of 3 species of iris. The\n",
      "species are _Iris setosa_, _versicolor_, and _virginica_.\n",
      "\n",
      "### Usage\n",
      "\n",
      "    iris\n",
      "    iris3\n",
      "\n",
      "### Format\n",
      "\n",
      "`iris` is a data frame with 150 cases (rows) and 5 variables (columns) named\n",
      "`Sepal.Length`, `Sepal.Width`, `Petal.Length`, `Petal.Width`, and `Species`.\n",
      "\n",
      "`iris3` gives the same data arranged as a 3-dimensional array of size 50 by 4\n",
      "by 3, as represented by S-PLUS. The first dimension gives the case number\n",
      "within the species subsample, the second the measurements with names `Sepal\n",
      "L.`, `Sepal W.`, `Petal L.`, and `Petal W.`, and the third the species.\n",
      "\n",
      "### Source\n",
      "\n",
      "Fisher, R. A. (1936) The use of multiple measurements in taxonomic problems.\n",
      "_Annals of Eugenics_, **7**, Part II, 179–188.\n",
      "\n",
      "The data were collected by Anderson, Edgar (1935). The irises of the Gaspe\n",
      "Peninsula, _Bulletin of the American Iris Society_, **59**, 2–5.\n",
      "\n",
      "### References\n",
      "\n",
      "Becker, R. A., Chambers, J. M. and Wilks, A. R. (1988) _The New S Language_.\n",
      "Wadsworth & Brooks/Cole. (has `iris3` as `iris`.)\n",
      "\n",
      "### See Also\n",
      "\n",
      "`matplot` some examples of which use `iris`.\n",
      "\n",
      "### Examples\n",
      "\n",
      "    dni3 <- dimnames(iris3)\n",
      "    ii <- data.frame(matrix(aperm(iris3, c(1,3,2)), ncol = 4,\n",
      "                            dimnames = list(NULL, sub(\" L.\",\".Length\",\n",
      "                                            sub(\" W.\",\".Width\", dni3[[2]])))),\n",
      "        Species = gl(3, 50, labels = sub(\"S\", \"s\", sub(\"V\", \"v\", dni3[[3]]))))\n",
      "    all.equal(ii, iris) # TRUE\n",
      "\n",
      "\n",
      "     Sepal.Length  Sepal.Width  Petal.Length  Petal.Width     Species\n",
      "1             5.1          3.5           1.4          0.2      setosa\n",
      "2             4.9          3.0           1.4          0.2      setosa\n",
      "3             4.7          3.2           1.3          0.2      setosa\n",
      "4             4.6          3.1           1.5          0.2      setosa\n",
      "5             5.0          3.6           1.4          0.2      setosa\n",
      "6             5.4          3.9           1.7          0.4      setosa\n",
      "7             4.6          3.4           1.4          0.3      setosa\n",
      "8             5.0          3.4           1.5          0.2      setosa\n",
      "9             4.4          2.9           1.4          0.2      setosa\n",
      "10            4.9          3.1           1.5          0.1      setosa\n",
      "11            5.4          3.7           1.5          0.2      setosa\n",
      "12            4.8          3.4           1.6          0.2      setosa\n",
      "13            4.8          3.0           1.4          0.1      setosa\n",
      "14            4.3          3.0           1.1          0.1      setosa\n",
      "15            5.8          4.0           1.2          0.2      setosa\n",
      "16            5.7          4.4           1.5          0.4      setosa\n",
      "17            5.4          3.9           1.3          0.4      setosa\n",
      "18            5.1          3.5           1.4          0.3      setosa\n",
      "19            5.7          3.8           1.7          0.3      setosa\n",
      "20            5.1          3.8           1.5          0.3      setosa\n",
      "21            5.4          3.4           1.7          0.2      setosa\n",
      "22            5.1          3.7           1.5          0.4      setosa\n",
      "23            4.6          3.6           1.0          0.2      setosa\n",
      "24            5.1          3.3           1.7          0.5      setosa\n",
      "25            4.8          3.4           1.9          0.2      setosa\n",
      "26            5.0          3.0           1.6          0.2      setosa\n",
      "27            5.0          3.4           1.6          0.4      setosa\n",
      "28            5.2          3.5           1.5          0.2      setosa\n",
      "29            5.2          3.4           1.4          0.2      setosa\n",
      "30            4.7          3.2           1.6          0.2      setosa\n",
      "31            4.8          3.1           1.6          0.2      setosa\n",
      "32            5.4          3.4           1.5          0.4      setosa\n",
      "33            5.2          4.1           1.5          0.1      setosa\n",
      "34            5.5          4.2           1.4          0.2      setosa\n",
      "35            4.9          3.1           1.5          0.2      setosa\n",
      "36            5.0          3.2           1.2          0.2      setosa\n",
      "37            5.5          3.5           1.3          0.2      setosa\n",
      "38            4.9          3.6           1.4          0.1      setosa\n",
      "39            4.4          3.0           1.3          0.2      setosa\n",
      "40            5.1          3.4           1.5          0.2      setosa\n",
      "41            5.0          3.5           1.3          0.3      setosa\n",
      "42            4.5          2.3           1.3          0.3      setosa\n",
      "43            4.4          3.2           1.3          0.2      setosa\n",
      "44            5.0          3.5           1.6          0.6      setosa\n",
      "45            5.1          3.8           1.9          0.4      setosa\n",
      "46            4.8          3.0           1.4          0.3      setosa\n",
      "47            5.1          3.8           1.6          0.2      setosa\n",
      "48            4.6          3.2           1.4          0.2      setosa\n",
      "49            5.3          3.7           1.5          0.2      setosa\n",
      "50            5.0          3.3           1.4          0.2      setosa\n",
      "51            7.0          3.2           4.7          1.4  versicolor\n",
      "52            6.4          3.2           4.5          1.5  versicolor\n",
      "53            6.9          3.1           4.9          1.5  versicolor\n",
      "54            5.5          2.3           4.0          1.3  versicolor\n",
      "55            6.5          2.8           4.6          1.5  versicolor\n",
      "56            5.7          2.8           4.5          1.3  versicolor\n",
      "57            6.3          3.3           4.7          1.6  versicolor\n",
      "58            4.9          2.4           3.3          1.0  versicolor\n",
      "59            6.6          2.9           4.6          1.3  versicolor\n",
      "60            5.2          2.7           3.9          1.4  versicolor\n",
      "61            5.0          2.0           3.5          1.0  versicolor\n",
      "62            5.9          3.0           4.2          1.5  versicolor\n",
      "63            6.0          2.2           4.0          1.0  versicolor\n",
      "64            6.1          2.9           4.7          1.4  versicolor\n",
      "65            5.6          2.9           3.6          1.3  versicolor\n",
      "66            6.7          3.1           4.4          1.4  versicolor\n",
      "67            5.6          3.0           4.5          1.5  versicolor\n",
      "68            5.8          2.7           4.1          1.0  versicolor\n",
      "69            6.2          2.2           4.5          1.5  versicolor\n",
      "70            5.6          2.5           3.9          1.1  versicolor\n",
      "71            5.9          3.2           4.8          1.8  versicolor\n",
      "72            6.1          2.8           4.0          1.3  versicolor\n",
      "73            6.3          2.5           4.9          1.5  versicolor\n",
      "74            6.1          2.8           4.7          1.2  versicolor\n",
      "75            6.4          2.9           4.3          1.3  versicolor\n",
      "76            6.6          3.0           4.4          1.4  versicolor\n",
      "77            6.8          2.8           4.8          1.4  versicolor\n",
      "78            6.7          3.0           5.0          1.7  versicolor\n",
      "79            6.0          2.9           4.5          1.5  versicolor\n",
      "80            5.7          2.6           3.5          1.0  versicolor\n",
      "81            5.5          2.4           3.8          1.1  versicolor\n",
      "82            5.5          2.4           3.7          1.0  versicolor\n",
      "83            5.8          2.7           3.9          1.2  versicolor\n",
      "84            6.0          2.7           5.1          1.6  versicolor\n",
      "85            5.4          3.0           4.5          1.5  versicolor\n",
      "86            6.0          3.4           4.5          1.6  versicolor\n",
      "87            6.7          3.1           4.7          1.5  versicolor\n",
      "88            6.3          2.3           4.4          1.3  versicolor\n",
      "89            5.6          3.0           4.1          1.3  versicolor\n",
      "90            5.5          2.5           4.0          1.3  versicolor\n",
      "91            5.5          2.6           4.4          1.2  versicolor\n",
      "92            6.1          3.0           4.6          1.4  versicolor\n",
      "93            5.8          2.6           4.0          1.2  versicolor\n",
      "94            5.0          2.3           3.3          1.0  versicolor\n",
      "95            5.6          2.7           4.2          1.3  versicolor\n",
      "96            5.7          3.0           4.2          1.2  versicolor\n",
      "97            5.7          2.9           4.2          1.3  versicolor\n",
      "98            6.2          2.9           4.3          1.3  versicolor\n",
      "99            5.1          2.5           3.0          1.1  versicolor\n",
      "100           5.7          2.8           4.1          1.3  versicolor\n",
      "101           6.3          3.3           6.0          2.5   virginica\n",
      "102           5.8          2.7           5.1          1.9   virginica\n",
      "103           7.1          3.0           5.9          2.1   virginica\n",
      "104           6.3          2.9           5.6          1.8   virginica\n",
      "105           6.5          3.0           5.8          2.2   virginica\n",
      "106           7.6          3.0           6.6          2.1   virginica\n",
      "107           4.9          2.5           4.5          1.7   virginica\n",
      "108           7.3          2.9           6.3          1.8   virginica\n",
      "109           6.7          2.5           5.8          1.8   virginica\n",
      "110           7.2          3.6           6.1          2.5   virginica\n",
      "111           6.5          3.2           5.1          2.0   virginica\n",
      "112           6.4          2.7           5.3          1.9   virginica\n",
      "113           6.8          3.0           5.5          2.1   virginica\n",
      "114           5.7          2.5           5.0          2.0   virginica\n",
      "115           5.8          2.8           5.1          2.4   virginica\n",
      "116           6.4          3.2           5.3          2.3   virginica\n",
      "117           6.5          3.0           5.5          1.8   virginica\n",
      "118           7.7          3.8           6.7          2.2   virginica\n",
      "119           7.7          2.6           6.9          2.3   virginica\n",
      "120           6.0          2.2           5.0          1.5   virginica\n",
      "121           6.9          3.2           5.7          2.3   virginica\n",
      "122           5.6          2.8           4.9          2.0   virginica\n",
      "123           7.7          2.8           6.7          2.0   virginica\n",
      "124           6.3          2.7           4.9          1.8   virginica\n",
      "125           6.7          3.3           5.7          2.1   virginica\n",
      "126           7.2          3.2           6.0          1.8   virginica\n",
      "127           6.2          2.8           4.8          1.8   virginica\n",
      "128           6.1          3.0           4.9          1.8   virginica\n",
      "129           6.4          2.8           5.6          2.1   virginica\n",
      "130           7.2          3.0           5.8          1.6   virginica\n",
      "131           7.4          2.8           6.1          1.9   virginica\n",
      "132           7.9          3.8           6.4          2.0   virginica\n",
      "133           6.4          2.8           5.6          2.2   virginica\n",
      "134           6.3          2.8           5.1          1.5   virginica\n",
      "135           6.1          2.6           5.6          1.4   virginica\n",
      "136           7.7          3.0           6.1          2.3   virginica\n",
      "137           6.3          3.4           5.6          2.4   virginica\n",
      "138           6.4          3.1           5.5          1.8   virginica\n",
      "139           6.0          3.0           4.8          1.8   virginica\n",
      "140           6.9          3.1           5.4          2.1   virginica\n",
      "141           6.7          3.1           5.6          2.4   virginica\n",
      "142           6.9          3.1           5.1          2.3   virginica\n",
      "143           5.8          2.7           5.1          1.9   virginica\n",
      "144           6.8          3.2           5.9          2.3   virginica\n",
      "145           6.7          3.3           5.7          2.5   virginica\n",
      "146           6.7          3.0           5.2          2.3   virginica\n",
      "147           6.3          2.5           5.0          1.9   virginica\n",
      "148           6.5          3.0           5.2          2.0   virginica\n",
      "149           6.2          3.4           5.4          2.3   virginica\n",
      "150           5.9          3.0           5.1          1.8   virginica\n"
     ]
    }
   ],
   "source": [
    "data('iris', show_doc=True)\n",
    "df = data('iris')\n",
    "print(df)"
   ]
  },
  {
   "cell_type": "markdown",
   "id": "1dff16f1",
   "metadata": {},
   "source": [
    "**Make a scatter plot of the petal lengths against petal widths and colour the points by the true class label (species)**"
   ]
  },
  {
   "cell_type": "code",
   "execution_count": null,
   "id": "03f13010",
   "metadata": {},
   "outputs": [],
   "source": []
  },
  {
   "cell_type": "markdown",
   "id": "8d349f62",
   "metadata": {},
   "source": [
    "**Use the KMeans clustering algorithm to find clusters.  How many clusters should you choose?  Remember to normalise your inputs (axis=0)**"
   ]
  },
  {
   "cell_type": "code",
   "execution_count": null,
   "id": "2f5cd151",
   "metadata": {},
   "outputs": [],
   "source": []
  },
  {
   "cell_type": "markdown",
   "id": "229303eb",
   "metadata": {},
   "source": [
    "**Make two subplots of petal widths against petal lengths, one with the colous of the points as the true label and one with the colours of the predicted cluster.  How well is the clustering doing?**"
   ]
  },
  {
   "cell_type": "code",
   "execution_count": null,
   "id": "1af937c1",
   "metadata": {},
   "outputs": [],
   "source": []
  },
  {
   "cell_type": "markdown",
   "id": "d0ac264a",
   "metadata": {},
   "source": [
    "**Now make and train a neural network to predict the class, don't forget your train test split!**"
   ]
  },
  {
   "cell_type": "code",
   "execution_count": null,
   "id": "2c97f03a",
   "metadata": {},
   "outputs": [],
   "source": []
  },
  {
   "cell_type": "markdown",
   "id": "cf0b74c8",
   "metadata": {},
   "source": [
    "**Make plots of the loss and accuracy for the training and test sets**"
   ]
  },
  {
   "cell_type": "code",
   "execution_count": null,
   "id": "e487d194",
   "metadata": {},
   "outputs": [],
   "source": []
  },
  {
   "cell_type": "markdown",
   "id": "5c961c1b",
   "metadata": {},
   "source": [
    "**Make three subplots of petal widths against petal lengths, one coloured by the true class label, one by the clustering prediction and one by the neural network prediction.  How does the accuracy compare?  What advantage can the neural network prediction give in the case that you do have labelled data?**"
   ]
  },
  {
   "cell_type": "code",
   "execution_count": null,
   "id": "720af424",
   "metadata": {},
   "outputs": [],
   "source": []
  }
 ],
 "metadata": {
  "kernelspec": {
   "display_name": "Python 3 (ipykernel)",
   "language": "python",
   "name": "python3"
  },
  "language_info": {
   "codemirror_mode": {
    "name": "ipython",
    "version": 3
   },
   "file_extension": ".py",
   "mimetype": "text/x-python",
   "name": "python",
   "nbconvert_exporter": "python",
   "pygments_lexer": "ipython3",
   "version": "3.9.15"
  }
 },
 "nbformat": 4,
 "nbformat_minor": 5
}
