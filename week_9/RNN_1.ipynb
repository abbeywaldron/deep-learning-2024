{
 "cells": [
  {
   "cell_type": "code",
   "execution_count": 1,
   "id": "9c996fb2",
   "metadata": {},
   "outputs": [],
   "source": [
    "import numpy as np\n",
    "import matplotlib.pyplot as plt\n",
    "%matplotlib inline\n",
    "import tensorflow as tf\n",
    "import requests\n",
    "import re\n",
    "import string"
   ]
  },
  {
   "cell_type": "markdown",
   "id": "47d1213f",
   "metadata": {},
   "source": [
    "First we will get some input text (Jane Austin's Persuasion)"
   ]
  },
  {
   "cell_type": "code",
   "execution_count": 2,
   "id": "9977a16c",
   "metadata": {},
   "outputs": [],
   "source": [
    "# get the input text (only run this once, don't annoy the website)\n",
    "url = \"https://www.gutenberg.org/cache/epub/105/pg105.txt\"\n",
    "text = str(requests.get(url).content)"
   ]
  },
  {
   "cell_type": "markdown",
   "id": "b16110f2",
   "metadata": {},
   "source": [
    "**Print the first 1000 characters of the text.  What do you notice?**"
   ]
  },
  {
   "cell_type": "code",
   "execution_count": null,
   "id": "0dc50cbb",
   "metadata": {},
   "outputs": [],
   "source": []
  },
  {
   "cell_type": "markdown",
   "id": "90db9015",
   "metadata": {},
   "source": [
    "Now we will remove the preamble from the book.  Were we successful?  **Print the first 1000 characters of the text again to find out**"
   ]
  },
  {
   "cell_type": "code",
   "execution_count": 3,
   "id": "3c778b00",
   "metadata": {},
   "outputs": [],
   "source": [
    "# remove the preamble from the book\n",
    "text_parts = text.split(\"CHAPTER I.\")\n",
    "body_text = text_parts[2]"
   ]
  },
  {
   "cell_type": "markdown",
   "id": "76267d7b",
   "metadata": {},
   "source": [
    "Now we will remove the newlines, make the text lowercase and remove special characters.  Did it work?  **Print the first 1000 characters of the text again to find out**"
   ]
  },
  {
   "cell_type": "code",
   "execution_count": 4,
   "id": "b4019a38",
   "metadata": {},
   "outputs": [],
   "source": [
    "# deal with the newlines\n",
    "body_text = body_text.replace(\"\\\\r\\\\n\", \" \")\n",
    "body_text = body_text.lower()\n",
    "clean_text = re.sub(r'[\\\\x00-\\\\x9F]',r'', body_text) \n",
    "clean_text = re.sub(r'[,;:_\\(\\)?!\\-\\\"\\'\\/%\\$&\\*]',r'', clean_text) \n",
    "clean_text = re.sub(r'\\. ',r' ', clean_text) \n",
    "clean_text = re.sub(r'\\.',r'', clean_text) \n",
    "clean_text = re.sub(r'\\s{2,}', r' ', clean_text)"
   ]
  },
  {
   "cell_type": "markdown",
   "id": "a4619d82",
   "metadata": {},
   "source": [
    "**Now use LabelEncoder from sklearn.preprocessing to convert the characters into integer values.  Print the total number of classes and what all the classes are.  How many should there be?  Did you get the number you expect?**"
   ]
  },
  {
   "cell_type": "code",
   "execution_count": 5,
   "id": "3e193875",
   "metadata": {},
   "outputs": [],
   "source": [
    "# encode the text\n",
    "from sklearn.preprocessing import LabelEncoder\n"
   ]
  },
  {
   "cell_type": "markdown",
   "id": "eb70937f",
   "metadata": {},
   "source": [
    "We will now split the text into sequences to try to predict the next character.  Choose a length for the sequences, how long do you think you will need?  **Split the text into inputs of length sequence_length and targets of length 1 that represent sequences of characters and the next character after the sequence in the text.  Print some of your examples, do they make sense?**"
   ]
  },
  {
   "cell_type": "code",
   "execution_count": 6,
   "id": "23de1082",
   "metadata": {},
   "outputs": [],
   "source": [
    "# split into input data and targets\n",
    "seq_length = ...  # needs to be long enough for a human to have a good guess.\n"
   ]
  },
  {
   "cell_type": "markdown",
   "id": "f8fa132a",
   "metadata": {},
   "source": [
    "**Split your examples into training and test sets**"
   ]
  },
  {
   "cell_type": "code",
   "execution_count": 7,
   "id": "6d0dc97f",
   "metadata": {},
   "outputs": [],
   "source": [
    "# train test split"
   ]
  },
  {
   "cell_type": "markdown",
   "id": "a2ce40bc",
   "metadata": {},
   "source": [
    "**Build an RNN to predict the class of the following character given the sequence of preceding characters.  What type of output layer do you need?**"
   ]
  },
  {
   "cell_type": "code",
   "execution_count": 8,
   "id": "abe94229",
   "metadata": {},
   "outputs": [],
   "source": [
    "# build a model"
   ]
  },
  {
   "cell_type": "markdown",
   "id": "4f0cea8a",
   "metadata": {},
   "source": [
    "**Choose an appropriate loss function and compile you model**"
   ]
  },
  {
   "cell_type": "code",
   "execution_count": null,
   "id": "45749085",
   "metadata": {},
   "outputs": [],
   "source": []
  },
  {
   "cell_type": "markdown",
   "id": "cc5d9b6b",
   "metadata": {},
   "source": [
    "**Train your model and store the history**"
   ]
  },
  {
   "cell_type": "code",
   "execution_count": null,
   "id": "59b621f5",
   "metadata": {},
   "outputs": [],
   "source": []
  },
  {
   "cell_type": "markdown",
   "id": "d57a35b7",
   "metadata": {},
   "source": [
    "**Look at the results of your training, including the loss and any other important metrics.  How did it go?  Try to improve your performance**"
   ]
  },
  {
   "cell_type": "code",
   "execution_count": 9,
   "id": "e88c33c1",
   "metadata": {},
   "outputs": [],
   "source": [
    "# look at the history\n"
   ]
  }
 ],
 "metadata": {
  "kernelspec": {
   "display_name": "Python 3 (ipykernel)",
   "language": "python",
   "name": "python3"
  },
  "language_info": {
   "codemirror_mode": {
    "name": "ipython",
    "version": 3
   },
   "file_extension": ".py",
   "mimetype": "text/x-python",
   "name": "python",
   "nbconvert_exporter": "python",
   "pygments_lexer": "ipython3",
   "version": "3.9.15"
  }
 },
 "nbformat": 4,
 "nbformat_minor": 5
}
