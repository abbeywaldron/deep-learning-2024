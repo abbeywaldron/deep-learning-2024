{
 "cells": [
  {
   "cell_type": "markdown",
   "id": "32198809",
   "metadata": {},
   "source": [
    "The following exercises are an extension of yesterday's notebook.  Please complete yesterday's notebook first and then continue in the same notebook using the hints and questions below!"
   ]
  },
  {
   "cell_type": "markdown",
   "id": "387b5125",
   "metadata": {},
   "source": [
    "The following code may be useful when generating text:"
   ]
  },
  {
   "cell_type": "code",
   "execution_count": 2,
   "id": "6213e5a7",
   "metadata": {},
   "outputs": [],
   "source": [
    "# sampling function\n",
    "def sample_preds(p, T=1.0):\n",
    "    eps = 0.0001 # avoids numerical errors\n",
    "    p = np.log(p[0])/T\n",
    "    exp_p = np.exp(p)\n",
    "    p = exp_p/np.sum(exp_p)\n",
    "    p = np.array([x-eps if x > 2*eps else x for x in p])\n",
    "    probs = np.random.multinomial(1,p,1)\n",
    "    return np.argmax(probs)"
   ]
  },
  {
   "cell_type": "markdown",
   "id": "9ed2b887",
   "metadata": {},
   "source": [
    "**Write a function that takes your model, a sequence length to generate and a string of starting input characters and returns a sequence with the starting input characters followed by generated characters of length sequence length.  Hint: you may need to use the function above!**"
   ]
  },
  {
   "cell_type": "code",
   "execution_count": 3,
   "id": "85f13392",
   "metadata": {},
   "outputs": [],
   "source": [
    "# function to generate text\n",
    "def generate_text(m, seq_length, input_chars):  \n",
    "    return ..."
   ]
  },
  {
   "cell_type": "markdown",
   "id": "9a3180eb",
   "metadata": {},
   "source": [
    "**Now use your function to generate text.  Does it look anything like English?**"
   ]
  },
  {
   "cell_type": "code",
   "execution_count": null,
   "id": "bf60a2a2",
   "metadata": {},
   "outputs": [],
   "source": []
  },
  {
   "cell_type": "markdown",
   "id": "5a42e65b",
   "metadata": {},
   "source": [
    "1. What is the effect of changing the sampling parameter T?\n",
    "2. Can you improve your model so you get more realisitic text?\n",
    "3. Is there an alternative to an RNN you could have used to perform this task?  Try it."
   ]
  }
 ],
 "metadata": {
  "kernelspec": {
   "display_name": "Python 3 (ipykernel)",
   "language": "python",
   "name": "python3"
  },
  "language_info": {
   "codemirror_mode": {
    "name": "ipython",
    "version": 3
   },
   "file_extension": ".py",
   "mimetype": "text/x-python",
   "name": "python",
   "nbconvert_exporter": "python",
   "pygments_lexer": "ipython3",
   "version": "3.9.15"
  }
 },
 "nbformat": 4,
 "nbformat_minor": 5
}
